{
  "cells": [
    {
      "cell_type": "markdown",
      "metadata": {
        "id": "view-in-github",
        "colab_type": "text"
      },
      "source": [
        "<a href=\"https://colab.research.google.com/github/fereshtehdehkhoda/Example-5-The-Fibonacci-Series/blob/main/Fibonacci_Series_(2).ipynb\" target=\"_parent\"><img src=\"https://colab.research.google.com/assets/colab-badge.svg\" alt=\"Open In Colab\"/></a>"
      ]
    },
    {
      "cell_type": "markdown",
      "id": "4c3944db-701c-47f2-b43a-431bc9fe36b1",
      "metadata": {
        "id": "4c3944db-701c-47f2-b43a-431bc9fe36b1"
      },
      "source": [
        "# Fibonacci Series"
      ]
    },
    {
      "cell_type": "code",
      "execution_count": null,
      "id": "a996192a-a343-4363-af0e-0a76a4e2708c",
      "metadata": {
        "id": "a996192a-a343-4363-af0e-0a76a4e2708c"
      },
      "outputs": [],
      "source": [
        "#سری فیبوناچی تا کوچکتر از ۱۰ میلیون\n",
        "#Fibonacci series less than 10 million."
      ]
    },
    {
      "cell_type": "code",
      "execution_count": null,
      "id": "858932f1-e6c1-4cf2-83b2-8a3153751b75",
      "metadata": {
        "id": "858932f1-e6c1-4cf2-83b2-8a3153751b75",
        "outputId": "41593125-8ac6-4290-814d-5298572a1b80"
      },
      "outputs": [
        {
          "name": "stdout",
          "output_type": "stream",
          "text": [
            "0\n",
            "1\n",
            "2\n",
            "3\n",
            "5\n",
            "8\n",
            "13\n",
            "21\n",
            "34\n",
            "55\n",
            "89\n",
            "144\n",
            "233\n",
            "377\n",
            "610\n",
            "987\n",
            "1597\n",
            "2584\n",
            "4181\n",
            "6765\n",
            "10946\n",
            "17711\n",
            "28657\n",
            "46368\n",
            "75025\n",
            "121393\n",
            "196418\n",
            "317811\n",
            "514229\n",
            "832040\n",
            "1346269\n",
            "2178309\n",
            "3524578\n",
            "5702887\n",
            "9227465\n"
          ]
        }
      ],
      "source": [
        "#Step1\n",
        "x=0\n",
        "y=1\n",
        "f=0\n",
        "\n",
        "#Step2\n",
        "while f<10000000:\n",
        "    print(f)\n",
        "    f=x+y\n",
        "    x,y=y,f"
      ]
    },
    {
      "cell_type": "code",
      "execution_count": null,
      "id": "e7984aee-573b-44f8-a0be-7109a7995759",
      "metadata": {
        "id": "e7984aee-573b-44f8-a0be-7109a7995759"
      },
      "outputs": [],
      "source": []
    }
  ],
  "metadata": {
    "kernelspec": {
      "display_name": "Python 3 (ipykernel)",
      "language": "python",
      "name": "python3"
    },
    "language_info": {
      "codemirror_mode": {
        "name": "ipython",
        "version": 3
      },
      "file_extension": ".py",
      "mimetype": "text/x-python",
      "name": "python",
      "nbconvert_exporter": "python",
      "pygments_lexer": "ipython3",
      "version": "3.12.4"
    },
    "colab": {
      "provenance": [],
      "include_colab_link": true
    }
  },
  "nbformat": 4,
  "nbformat_minor": 5
}